{
 "cells": [
  {
   "cell_type": "code",
   "execution_count": 3,
   "id": "5ffc99a3",
   "metadata": {},
   "outputs": [],
   "source": [
    "import numpy as np\n",
    "import pandas as pd\n",
    "import matplotlib.pyplot as plt"
   ]
  },
  {
   "cell_type": "code",
   "execution_count": 4,
   "id": "57c20328",
   "metadata": {},
   "outputs": [],
   "source": [
    "data = pd.read_csv('Churn_Modelling.csv')"
   ]
  },
  {
   "cell_type": "code",
   "execution_count": 5,
   "id": "702bb958",
   "metadata": {},
   "outputs": [
    {
     "data": {
      "text/html": [
       "<div>\n",
       "<style scoped>\n",
       "    .dataframe tbody tr th:only-of-type {\n",
       "        vertical-align: middle;\n",
       "    }\n",
       "\n",
       "    .dataframe tbody tr th {\n",
       "        vertical-align: top;\n",
       "    }\n",
       "\n",
       "    .dataframe thead th {\n",
       "        text-align: right;\n",
       "    }\n",
       "</style>\n",
       "<table border=\"1\" class=\"dataframe\">\n",
       "  <thead>\n",
       "    <tr style=\"text-align: right;\">\n",
       "      <th></th>\n",
       "      <th>RowNumber</th>\n",
       "      <th>CustomerId</th>\n",
       "      <th>Surname</th>\n",
       "      <th>CreditScore</th>\n",
       "      <th>Geography</th>\n",
       "      <th>Gender</th>\n",
       "      <th>Age</th>\n",
       "      <th>Tenure</th>\n",
       "      <th>Balance</th>\n",
       "      <th>NumOfProducts</th>\n",
       "      <th>HasCrCard</th>\n",
       "      <th>IsActiveMember</th>\n",
       "      <th>EstimatedSalary</th>\n",
       "      <th>Exited</th>\n",
       "    </tr>\n",
       "  </thead>\n",
       "  <tbody>\n",
       "    <tr>\n",
       "      <th>0</th>\n",
       "      <td>1</td>\n",
       "      <td>15634602</td>\n",
       "      <td>Hargrave</td>\n",
       "      <td>619</td>\n",
       "      <td>France</td>\n",
       "      <td>Female</td>\n",
       "      <td>42</td>\n",
       "      <td>2</td>\n",
       "      <td>0.00</td>\n",
       "      <td>1</td>\n",
       "      <td>1</td>\n",
       "      <td>1</td>\n",
       "      <td>101348.88</td>\n",
       "      <td>1</td>\n",
       "    </tr>\n",
       "    <tr>\n",
       "      <th>1</th>\n",
       "      <td>2</td>\n",
       "      <td>15647311</td>\n",
       "      <td>Hill</td>\n",
       "      <td>608</td>\n",
       "      <td>Spain</td>\n",
       "      <td>Female</td>\n",
       "      <td>41</td>\n",
       "      <td>1</td>\n",
       "      <td>83807.86</td>\n",
       "      <td>1</td>\n",
       "      <td>0</td>\n",
       "      <td>1</td>\n",
       "      <td>112542.58</td>\n",
       "      <td>0</td>\n",
       "    </tr>\n",
       "    <tr>\n",
       "      <th>2</th>\n",
       "      <td>3</td>\n",
       "      <td>15619304</td>\n",
       "      <td>Onio</td>\n",
       "      <td>502</td>\n",
       "      <td>France</td>\n",
       "      <td>Female</td>\n",
       "      <td>42</td>\n",
       "      <td>8</td>\n",
       "      <td>159660.80</td>\n",
       "      <td>3</td>\n",
       "      <td>1</td>\n",
       "      <td>0</td>\n",
       "      <td>113931.57</td>\n",
       "      <td>1</td>\n",
       "    </tr>\n",
       "    <tr>\n",
       "      <th>3</th>\n",
       "      <td>4</td>\n",
       "      <td>15701354</td>\n",
       "      <td>Boni</td>\n",
       "      <td>699</td>\n",
       "      <td>France</td>\n",
       "      <td>Female</td>\n",
       "      <td>39</td>\n",
       "      <td>1</td>\n",
       "      <td>0.00</td>\n",
       "      <td>2</td>\n",
       "      <td>0</td>\n",
       "      <td>0</td>\n",
       "      <td>93826.63</td>\n",
       "      <td>0</td>\n",
       "    </tr>\n",
       "    <tr>\n",
       "      <th>4</th>\n",
       "      <td>5</td>\n",
       "      <td>15737888</td>\n",
       "      <td>Mitchell</td>\n",
       "      <td>850</td>\n",
       "      <td>Spain</td>\n",
       "      <td>Female</td>\n",
       "      <td>43</td>\n",
       "      <td>2</td>\n",
       "      <td>125510.82</td>\n",
       "      <td>1</td>\n",
       "      <td>1</td>\n",
       "      <td>1</td>\n",
       "      <td>79084.10</td>\n",
       "      <td>0</td>\n",
       "    </tr>\n",
       "  </tbody>\n",
       "</table>\n",
       "</div>"
      ],
      "text/plain": [
       "   RowNumber  CustomerId   Surname  CreditScore Geography  Gender  Age  \\\n",
       "0          1    15634602  Hargrave          619    France  Female   42   \n",
       "1          2    15647311      Hill          608     Spain  Female   41   \n",
       "2          3    15619304      Onio          502    France  Female   42   \n",
       "3          4    15701354      Boni          699    France  Female   39   \n",
       "4          5    15737888  Mitchell          850     Spain  Female   43   \n",
       "\n",
       "   Tenure    Balance  NumOfProducts  HasCrCard  IsActiveMember  \\\n",
       "0       2       0.00              1          1               1   \n",
       "1       1   83807.86              1          0               1   \n",
       "2       8  159660.80              3          1               0   \n",
       "3       1       0.00              2          0               0   \n",
       "4       2  125510.82              1          1               1   \n",
       "\n",
       "   EstimatedSalary  Exited  \n",
       "0        101348.88       1  \n",
       "1        112542.58       0  \n",
       "2        113931.57       1  \n",
       "3         93826.63       0  \n",
       "4         79084.10       0  "
      ]
     },
     "execution_count": 5,
     "metadata": {},
     "output_type": "execute_result"
    }
   ],
   "source": [
    "data.head()"
   ]
  },
  {
   "cell_type": "code",
   "execution_count": 5,
   "id": "1ceeebd0",
   "metadata": {},
   "outputs": [
    {
     "name": "stdout",
     "output_type": "stream",
     "text": [
      "<class 'pandas.core.frame.DataFrame'>\n",
      "RangeIndex: 10000 entries, 0 to 9999\n",
      "Data columns (total 14 columns):\n",
      " #   Column           Non-Null Count  Dtype  \n",
      "---  ------           --------------  -----  \n",
      " 0   RowNumber        10000 non-null  int64  \n",
      " 1   CustomerId       10000 non-null  int64  \n",
      " 2   Surname          10000 non-null  object \n",
      " 3   CreditScore      10000 non-null  int64  \n",
      " 4   Geography        10000 non-null  object \n",
      " 5   Gender           10000 non-null  object \n",
      " 6   Age              10000 non-null  int64  \n",
      " 7   Tenure           10000 non-null  int64  \n",
      " 8   Balance          10000 non-null  float64\n",
      " 9   NumOfProducts    10000 non-null  int64  \n",
      " 10  HasCrCard        10000 non-null  int64  \n",
      " 11  IsActiveMember   10000 non-null  int64  \n",
      " 12  EstimatedSalary  10000 non-null  float64\n",
      " 13  Exited           10000 non-null  int64  \n",
      "dtypes: float64(2), int64(9), object(3)\n",
      "memory usage: 1.1+ MB\n",
      "None\n"
     ]
    }
   ],
   "source": [
    "print(data.info())"
   ]
  },
  {
   "cell_type": "code",
   "execution_count": 6,
   "id": "82ce2b4f",
   "metadata": {},
   "outputs": [
    {
     "name": "stdout",
     "output_type": "stream",
     "text": [
      "         RowNumber    CustomerId   CreditScore           Age        Tenure  \\\n",
      "count  10000.00000  1.000000e+04  10000.000000  10000.000000  10000.000000   \n",
      "mean    5000.50000  1.569094e+07    650.528800     38.921800      5.012800   \n",
      "std     2886.89568  7.193619e+04     96.653299     10.487806      2.892174   \n",
      "min        1.00000  1.556570e+07    350.000000     18.000000      0.000000   \n",
      "25%     2500.75000  1.562853e+07    584.000000     32.000000      3.000000   \n",
      "50%     5000.50000  1.569074e+07    652.000000     37.000000      5.000000   \n",
      "75%     7500.25000  1.575323e+07    718.000000     44.000000      7.000000   \n",
      "max    10000.00000  1.581569e+07    850.000000     92.000000     10.000000   \n",
      "\n",
      "             Balance  NumOfProducts    HasCrCard  IsActiveMember  \\\n",
      "count   10000.000000   10000.000000  10000.00000    10000.000000   \n",
      "mean    76485.889288       1.530200      0.70550        0.515100   \n",
      "std     62397.405202       0.581654      0.45584        0.499797   \n",
      "min         0.000000       1.000000      0.00000        0.000000   \n",
      "25%         0.000000       1.000000      0.00000        0.000000   \n",
      "50%     97198.540000       1.000000      1.00000        1.000000   \n",
      "75%    127644.240000       2.000000      1.00000        1.000000   \n",
      "max    250898.090000       4.000000      1.00000        1.000000   \n",
      "\n",
      "       EstimatedSalary        Exited  \n",
      "count     10000.000000  10000.000000  \n",
      "mean     100090.239881      0.203700  \n",
      "std       57510.492818      0.402769  \n",
      "min          11.580000      0.000000  \n",
      "25%       51002.110000      0.000000  \n",
      "50%      100193.915000      0.000000  \n",
      "75%      149388.247500      0.000000  \n",
      "max      199992.480000      1.000000  \n"
     ]
    }
   ],
   "source": [
    "print(data.describe())"
   ]
  },
  {
   "cell_type": "code",
   "execution_count": 7,
   "id": "95194bab",
   "metadata": {},
   "outputs": [
    {
     "data": {
      "image/png": "[encoded data removed]",
      "text/plain": [
       "<Figure size 576x432 with 1 Axes>"
      ]
     },
     "metadata": {
      "needs_background": "light"
     },
     "output_type": "display_data"
    }
   ],
   "source": [
    "import matplotlib.pyplot as plt\n",
    "import seaborn as sns\n",
    "\n",
    "# Example: Histogram of Age\n",
    "plt.figure(figsize=(8, 6))\n",
    "sns.histplot(data['Age'], bins=30, kde=True)\n",
    "plt.title('Distribution of Age')\n",
    "plt.xlabel('Age')\n",
    "plt.ylabel('Frequency')\n",
    "plt.show()\n"
   ]
  },
  {
   "cell_type": "code",
   "execution_count": 8,
   "id": "51eb0244",
   "metadata": {},
   "outputs": [
    {
     "data": {
      "image/png": "[encoded data removed]",
      "text/plain": [
       "<Figure size 720x576 with 2 Axes>"
      ]
     },
     "metadata": {
      "needs_background": "light"
     },
     "output_type": "display_data"
    }
   ],
   "source": [
    "# Correlation matrix\n",
    "correlation_matrix = data.corr()\n",
    "\n",
    "# Heatmap of correlation matrix\n",
    "plt.figure(figsize=(10, 8))\n",
    "sns.heatmap(correlation_matrix, annot=True, cmap='coolwarm', fmt='.2f', linewidths=0.5)\n",
    "plt.title('Correlation Matrix')\n",
    "plt.show()\n"
   ]
  },
  {
   "cell_type": "code",
   "execution_count": 49,
   "id": "66a78f12",
   "metadata": {},
   "outputs": [],
   "source": [
    "def sigmoid(z):\n",
    "    z = np.clip(z, -10, 10)\n",
    "    op = 1/(1 + np.exp(-z))\n",
    "    return op"
   ]
  },
  {
   "cell_type": "code",
   "execution_count": 18,
   "id": "7955142e",
   "metadata": {},
   "outputs": [],
   "source": [
    "def compute_cost(X , y , w , b ):\n",
    "    row , col = X.shape\n",
    "    cost = 0\n",
    "    for i in range(row):\n",
    "        z_wb_i = np.dot(X[i] , w) + b\n",
    "        f_wb_i = sigmoid(z_wb_i)\n",
    "        cost += -1 * (y[i] * np.log(f_wb_i)) - ((1 - y[i]) * (np.log(1 - f_wb_i)))\n",
    "    cost = cost / ( row)\n",
    "    return cost"
   ]
  },
  {
   "cell_type": "code",
   "execution_count": 19,
   "id": "532616c7",
   "metadata": {},
   "outputs": [],
   "source": [
    "def compute_gradient(X , y , w , b ):\n",
    "    row , col = X.shape\n",
    "    dj_dw = np.zeros(w.shape)\n",
    "    dj_db = 0.\n",
    "    for i in range(row):\n",
    "        loss = sigmoid(np.dot(X[i] , w) + b)\n",
    "        for j in range(col):\n",
    "            dj_dw[j] += (1 / row) * loss * X[i][j]\n",
    "        dj_db +=  (loss/row)\n",
    "    return dj_dw , dj_db"
   ]
  },
  {
   "cell_type": "code",
   "execution_count": 39,
   "id": "25803304",
   "metadata": {},
   "outputs": [],
   "source": [
    "def gradient_descent(X , y , w , b , learning_rate , iterations):\n",
    "    weights_bias_history = []\n",
    "    cost_history = []\n",
    "    for i in range(iterations):\n",
    "        dj_dw , dj_db = compute_gradient(X , y , w , b )\n",
    "        w = w - learning_rate * dj_dw\n",
    "        b = b - learning_rate * dj_db\n",
    "        weights_bias_history.append((np.round(w,3),np.round(b,3)))\n",
    "        cost = compute_cost(X , y , w , b)\n",
    "        cost_history.append(np.round(cost , 3))\n",
    "    return weights_bias_history , cost_history , w , b"
   ]
  },
  {
   "cell_type": "code",
   "execution_count": 13,
   "id": "4247b29c",
   "metadata": {},
   "outputs": [
    {
     "data": {
      "text/html": [
       "<div>\n",
       "<style scoped>\n",
       "    .dataframe tbody tr th:only-of-type {\n",
       "        vertical-align: middle;\n",
       "    }\n",
       "\n",
       "    .dataframe tbody tr th {\n",
       "        vertical-align: top;\n",
       "    }\n",
       "\n",
       "    .dataframe thead th {\n",
       "        text-align: right;\n",
       "    }\n",
       "</style>\n",
       "<table border=\"1\" class=\"dataframe\">\n",
       "  <thead>\n",
       "    <tr style=\"text-align: right;\">\n",
       "      <th></th>\n",
       "      <th>RowNumber</th>\n",
       "      <th>CustomerId</th>\n",
       "      <th>Surname</th>\n",
       "      <th>CreditScore</th>\n",
       "      <th>Geography</th>\n",
       "      <th>Gender</th>\n",
       "      <th>Age</th>\n",
       "      <th>Tenure</th>\n",
       "      <th>Balance</th>\n",
       "      <th>NumOfProducts</th>\n",
       "      <th>HasCrCard</th>\n",
       "      <th>IsActiveMember</th>\n",
       "      <th>EstimatedSalary</th>\n",
       "      <th>Exited</th>\n",
       "    </tr>\n",
       "  </thead>\n",
       "  <tbody>\n",
       "    <tr>\n",
       "      <th>0</th>\n",
       "      <td>1</td>\n",
       "      <td>15634602</td>\n",
       "      <td>Hargrave</td>\n",
       "      <td>619</td>\n",
       "      <td>France</td>\n",
       "      <td>Female</td>\n",
       "      <td>42</td>\n",
       "      <td>2</td>\n",
       "      <td>0.00</td>\n",
       "      <td>1</td>\n",
       "      <td>1</td>\n",
       "      <td>1</td>\n",
       "      <td>101348.88</td>\n",
       "      <td>1</td>\n",
       "    </tr>\n",
       "    <tr>\n",
       "      <th>1</th>\n",
       "      <td>2</td>\n",
       "      <td>15647311</td>\n",
       "      <td>Hill</td>\n",
       "      <td>608</td>\n",
       "      <td>Spain</td>\n",
       "      <td>Female</td>\n",
       "      <td>41</td>\n",
       "      <td>1</td>\n",
       "      <td>83807.86</td>\n",
       "      <td>1</td>\n",
       "      <td>0</td>\n",
       "      <td>1</td>\n",
       "      <td>112542.58</td>\n",
       "      <td>0</td>\n",
       "    </tr>\n",
       "    <tr>\n",
       "      <th>2</th>\n",
       "      <td>3</td>\n",
       "      <td>15619304</td>\n",
       "      <td>Onio</td>\n",
       "      <td>502</td>\n",
       "      <td>France</td>\n",
       "      <td>Female</td>\n",
       "      <td>42</td>\n",
       "      <td>8</td>\n",
       "      <td>159660.80</td>\n",
       "      <td>3</td>\n",
       "      <td>1</td>\n",
       "      <td>0</td>\n",
       "      <td>113931.57</td>\n",
       "      <td>1</td>\n",
       "    </tr>\n",
       "    <tr>\n",
       "      <th>3</th>\n",
       "      <td>4</td>\n",
       "      <td>15701354</td>\n",
       "      <td>Boni</td>\n",
       "      <td>699</td>\n",
       "      <td>France</td>\n",
       "      <td>Female</td>\n",
       "      <td>39</td>\n",
       "      <td>1</td>\n",
       "      <td>0.00</td>\n",
       "      <td>2</td>\n",
       "      <td>0</td>\n",
       "      <td>0</td>\n",
       "      <td>93826.63</td>\n",
       "      <td>0</td>\n",
       "    </tr>\n",
       "    <tr>\n",
       "      <th>4</th>\n",
       "      <td>5</td>\n",
       "      <td>15737888</td>\n",
       "      <td>Mitchell</td>\n",
       "      <td>850</td>\n",
       "      <td>Spain</td>\n",
       "      <td>Female</td>\n",
       "      <td>43</td>\n",
       "      <td>2</td>\n",
       "      <td>125510.82</td>\n",
       "      <td>1</td>\n",
       "      <td>1</td>\n",
       "      <td>1</td>\n",
       "      <td>79084.10</td>\n",
       "      <td>0</td>\n",
       "    </tr>\n",
       "  </tbody>\n",
       "</table>\n",
       "</div>"
      ],
      "text/plain": [
       "   RowNumber  CustomerId   Surname  CreditScore Geography  Gender  Age  \\\n",
       "0          1    15634602  Hargrave          619    France  Female   42   \n",
       "1          2    15647311      Hill          608     Spain  Female   41   \n",
       "2          3    15619304      Onio          502    France  Female   42   \n",
       "3          4    15701354      Boni          699    France  Female   39   \n",
       "4          5    15737888  Mitchell          850     Spain  Female   43   \n",
       "\n",
       "   Tenure    Balance  NumOfProducts  HasCrCard  IsActiveMember  \\\n",
       "0       2       0.00              1          1               1   \n",
       "1       1   83807.86              1          0               1   \n",
       "2       8  159660.80              3          1               0   \n",
       "3       1       0.00              2          0               0   \n",
       "4       2  125510.82              1          1               1   \n",
       "\n",
       "   EstimatedSalary  Exited  \n",
       "0        101348.88       1  \n",
       "1        112542.58       0  \n",
       "2        113931.57       1  \n",
       "3         93826.63       0  \n",
       "4         79084.10       0  "
      ]
     },
     "execution_count": 13,
     "metadata": {},
     "output_type": "execute_result"
    }
   ],
   "source": [
    "data.head()"
   ]
  },
  {
   "cell_type": "code",
   "execution_count": 10,
   "id": "23eb3eae",
   "metadata": {},
   "outputs": [],
   "source": [
    "data['CreditScore'] = data['CreditScore'] / 100\n",
    "data['EstimatedSalary'] /= 100\n",
    "data['Balance'] /= 10000"
   ]
  },
  {
   "cell_type": "code",
   "execution_count": 11,
   "id": "221c460e",
   "metadata": {},
   "outputs": [
    {
     "name": "stderr",
     "output_type": "stream",
     "text": [
      "C:\\Users\\91733\\AppData\\Local\\Temp\\ipykernel_16628\\3596388222.py:3: SettingWithCopyWarning: \n",
      "A value is trying to be set on a copy of a slice from a DataFrame\n",
      "\n",
      "See the caveats in the documentation: https://pandas.pydata.org/pandas-docs/stable/user_guide/indexing.html#returning-a-view-versus-a-copy\n",
      "  data['Balance'][i] = data['Balance'].mean()\n"
     ]
    }
   ],
   "source": [
    "for i in range(len(data['Balance'])):\n",
    "    if data['Balance'][i] == 0:\n",
    "        data['Balance'][i] = data['Balance'].mean()"
   ]
  },
  {
   "cell_type": "code",
   "execution_count": 12,
   "id": "afcd24f6",
   "metadata": {},
   "outputs": [
    {
     "name": "stderr",
     "output_type": "stream",
     "text": [
      "C:\\Users\\91733\\AppData\\Local\\Temp\\ipykernel_16628\\2818159435.py:5: SettingWithCopyWarning: \n",
      "A value is trying to be set on a copy of a slice from a DataFrame\n",
      "\n",
      "See the caveats in the documentation: https://pandas.pydata.org/pandas-docs/stable/user_guide/indexing.html#returning-a-view-versus-a-copy\n",
      "  data['Gender'][i] = 0\n",
      "C:\\Users\\91733\\AppData\\Local\\Temp\\ipykernel_16628\\2818159435.py:3: SettingWithCopyWarning: \n",
      "A value is trying to be set on a copy of a slice from a DataFrame\n",
      "\n",
      "See the caveats in the documentation: https://pandas.pydata.org/pandas-docs/stable/user_guide/indexing.html#returning-a-view-versus-a-copy\n",
      "  data['Gender'][i] = 1\n"
     ]
    }
   ],
   "source": [
    "for i in range(len(data['Gender'])):\n",
    "    if data['Gender'][i] == 'Male':\n",
    "        data['Gender'][i] = 1\n",
    "    else:\n",
    "        data['Gender'][i] = 0"
   ]
  },
  {
   "cell_type": "code",
   "execution_count": 21,
   "id": "cf2e21ba",
   "metadata": {},
   "outputs": [
    {
     "data": {
      "text/html": [
       "<div>\n",
       "<style scoped>\n",
       "    .dataframe tbody tr th:only-of-type {\n",
       "        vertical-align: middle;\n",
       "    }\n",
       "\n",
       "    .dataframe tbody tr th {\n",
       "        vertical-align: top;\n",
       "    }\n",
       "\n",
       "    .dataframe thead th {\n",
       "        text-align: right;\n",
       "    }\n",
       "</style>\n",
       "<table border=\"1\" class=\"dataframe\">\n",
       "  <thead>\n",
       "    <tr style=\"text-align: right;\">\n",
       "      <th></th>\n",
       "      <th>RowNumber</th>\n",
       "      <th>CustomerId</th>\n",
       "      <th>Surname</th>\n",
       "      <th>CreditScore</th>\n",
       "      <th>Geography</th>\n",
       "      <th>Gender</th>\n",
       "      <th>Age</th>\n",
       "      <th>Tenure</th>\n",
       "      <th>Balance</th>\n",
       "      <th>NumOfProducts</th>\n",
       "      <th>HasCrCard</th>\n",
       "      <th>IsActiveMember</th>\n",
       "      <th>EstimatedSalary</th>\n",
       "      <th>Exited</th>\n",
       "    </tr>\n",
       "  </thead>\n",
       "  <tbody>\n",
       "    <tr>\n",
       "      <th>0</th>\n",
       "      <td>1</td>\n",
       "      <td>15634602</td>\n",
       "      <td>Hargrave</td>\n",
       "      <td>6.19</td>\n",
       "      <td>France</td>\n",
       "      <td>0</td>\n",
       "      <td>42</td>\n",
       "      <td>2</td>\n",
       "      <td>7.648589</td>\n",
       "      <td>1</td>\n",
       "      <td>1</td>\n",
       "      <td>1</td>\n",
       "      <td>1013.4888</td>\n",
       "      <td>1</td>\n",
       "    </tr>\n",
       "    <tr>\n",
       "      <th>1</th>\n",
       "      <td>2</td>\n",
       "      <td>15647311</td>\n",
       "      <td>Hill</td>\n",
       "      <td>6.08</td>\n",
       "      <td>Spain</td>\n",
       "      <td>0</td>\n",
       "      <td>41</td>\n",
       "      <td>1</td>\n",
       "      <td>8.380786</td>\n",
       "      <td>1</td>\n",
       "      <td>0</td>\n",
       "      <td>1</td>\n",
       "      <td>1125.4258</td>\n",
       "      <td>0</td>\n",
       "    </tr>\n",
       "    <tr>\n",
       "      <th>2</th>\n",
       "      <td>3</td>\n",
       "      <td>15619304</td>\n",
       "      <td>Onio</td>\n",
       "      <td>5.02</td>\n",
       "      <td>France</td>\n",
       "      <td>0</td>\n",
       "      <td>42</td>\n",
       "      <td>8</td>\n",
       "      <td>15.966080</td>\n",
       "      <td>3</td>\n",
       "      <td>1</td>\n",
       "      <td>0</td>\n",
       "      <td>1139.3157</td>\n",
       "      <td>1</td>\n",
       "    </tr>\n",
       "    <tr>\n",
       "      <th>3</th>\n",
       "      <td>4</td>\n",
       "      <td>15701354</td>\n",
       "      <td>Boni</td>\n",
       "      <td>6.99</td>\n",
       "      <td>France</td>\n",
       "      <td>0</td>\n",
       "      <td>39</td>\n",
       "      <td>1</td>\n",
       "      <td>7.649354</td>\n",
       "      <td>2</td>\n",
       "      <td>0</td>\n",
       "      <td>0</td>\n",
       "      <td>938.2663</td>\n",
       "      <td>0</td>\n",
       "    </tr>\n",
       "    <tr>\n",
       "      <th>4</th>\n",
       "      <td>5</td>\n",
       "      <td>15737888</td>\n",
       "      <td>Mitchell</td>\n",
       "      <td>8.50</td>\n",
       "      <td>Spain</td>\n",
       "      <td>0</td>\n",
       "      <td>43</td>\n",
       "      <td>2</td>\n",
       "      <td>12.551082</td>\n",
       "      <td>1</td>\n",
       "      <td>1</td>\n",
       "      <td>1</td>\n",
       "      <td>790.8410</td>\n",
       "      <td>0</td>\n",
       "    </tr>\n",
       "  </tbody>\n",
       "</table>\n",
       "</div>"
      ],
      "text/plain": [
       "   RowNumber  CustomerId   Surname  CreditScore Geography Gender  Age  Tenure  \\\n",
       "0          1    15634602  Hargrave         6.19    France      0   42       2   \n",
       "1          2    15647311      Hill         6.08     Spain      0   41       1   \n",
       "2          3    15619304      Onio         5.02    France      0   42       8   \n",
       "3          4    15701354      Boni         6.99    France      0   39       1   \n",
       "4          5    15737888  Mitchell         8.50     Spain      0   43       2   \n",
       "\n",
       "     Balance  NumOfProducts  HasCrCard  IsActiveMember  EstimatedSalary  \\\n",
       "0   7.648589              1          1               1        1013.4888   \n",
       "1   8.380786              1          0               1        1125.4258   \n",
       "2  15.966080              3          1               0        1139.3157   \n",
       "3   7.649354              2          0               0         938.2663   \n",
       "4  12.551082              1          1               1         790.8410   \n",
       "\n",
       "   Exited  \n",
       "0       1  \n",
       "1       0  \n",
       "2       1  \n",
       "3       0  \n",
       "4       0  "
      ]
     },
     "execution_count": 21,
     "metadata": {},
     "output_type": "execute_result"
    }
   ],
   "source": [
    "data.head()"
   ]
  },
  {
   "cell_type": "code",
   "execution_count": 13,
   "id": "74077ea4",
   "metadata": {},
   "outputs": [],
   "source": [
    "X = data[['Gender' , 'Age' , 'HasCrCard' , 'IsActiveMember' , 'CreditScore'  , 'Tenure' , 'Balance' , 'EstimatedSalary' ]]\n",
    "y = data['Exited']"
   ]
  },
  {
   "cell_type": "code",
   "execution_count": 14,
   "id": "b200fe69",
   "metadata": {},
   "outputs": [],
   "source": [
    "features = np.array(X.values.tolist())\n",
    "target = np.array(y.values.tolist())"
   ]
  },
  {
   "cell_type": "code",
   "execution_count": 51,
   "id": "706dadc4",
   "metadata": {},
   "outputs": [],
   "source": [
    "w = np.array([2.7 , 2.9 , 3.5 , 3.25 , 3.43 , 3.50 , 2.75 , 2.8])\n",
    "b = 5"
   ]
  },
  {
   "cell_type": "code",
   "execution_count": 60,
   "id": "8059153a",
   "metadata": {},
   "outputs": [],
   "source": [
    "weights_and_bias , cost_history , final_weights , final_bias = gradient_descent(features , target , w , b , 0.01 , 17500)"
   ]
  },
  {
   "cell_type": "code",
   "execution_count": 54,
   "id": "5f377160",
   "metadata": {},
   "outputs": [
    {
     "name": "stdout",
     "output_type": "stream",
     "text": [
      "Iteration 0:  w: [ 2.695  2.511  3.493  3.245  3.365  3.45   2.64  -7.209]  b:4.99   COST: 2.111\n",
      "Iteration 1500:  w: [ 2.65  -0.819  3.434  3.2    2.818  2.973  1.742 -8.469]  b:4.907   COST: 2.044\n",
      "Iteration 3000:  w: [ 2.638 -1.415  3.42   3.191  2.714  2.861  1.584 -9.176]  b:4.892   COST: 2.038\n",
      "Iteration 4500:  w: [ 2.635 -1.546  3.418  3.188  2.689  2.838  1.547 -9.861]  b:4.888   COST: 2.037\n",
      "Iteration 6000:  w: [  2.633  -1.601   3.418   3.186   2.679   2.83    1.53  -10.544]  b:4.886   COST: 2.037\n",
      "Iteration 7500:  w: [  2.633  -1.634   3.417   3.186   2.673   2.825   1.52  -11.225]  b:4.886   COST: 2.037\n",
      "Iteration 9000:  w: [  2.632  -1.662   3.417   3.185   2.669   2.822   1.512 -11.907]  b:4.885   COST: 2.037\n",
      "Iteration 10500:  w: [  2.632  -1.689   3.416   3.185   2.664   2.818   1.505 -12.589]  b:4.884   COST: 2.037\n",
      "Iteration 12000:  w: [  2.632  -1.715   3.416   3.185   2.66    2.815   1.497 -13.27 ]  b:4.883   COST: 2.037\n",
      "Iteration 13500:  w: [  2.631  -1.742   3.415   3.184   2.655   2.811   1.49  -13.952]  b:4.883   COST: 2.037\n",
      "Iteration 15000:  w: [  2.631  -1.768   3.415   3.184   2.651   2.808   1.482 -14.633]  b:4.882   COST: 2.037\n",
      "Iteration 16500:  w: [  2.631  -1.795   3.414   3.184   2.647   2.805   1.475 -15.315]  b:4.881   COST: 2.037\n"
     ]
    }
   ],
   "source": [
    "for i in range(len(cost_history)):\n",
    "    if i % 1500 == 0:\n",
    "        print(f\"Iteration {i}:  w: {weights_and_bias[i][0]}  b:{weights_and_bias[i][1]}   COST: {cost_history[i]}\")"
   ]
  },
  {
   "cell_type": "code",
   "execution_count": 55,
   "id": "4227a504",
   "metadata": {},
   "outputs": [
    {
     "name": "stdout",
     "output_type": "stream",
     "text": [
      "Initial weights : [2.7  2.9  3.5  3.25 3.43 3.5  2.75 2.8 ]    Inital bias : 5  Initial cost : 2.111\n",
      "Final weights : [  2.63034383  -1.81250611   3.41389872   3.18329555   2.64359495\n",
      "   2.80236735   1.46960661 -15.76892312]    Final bias : 4.88094453423574  Final cost: 2.037\n"
     ]
    }
   ],
   "source": [
    "print(f\"Initial weights : {w}    Inital bias : {b}  Initial cost : {cost_history[0]}\")\n",
    "print(f\"Final weights : {final_weights}    Final bias : {final_bias}  Final cost: {cost_history[len(cost_history) - 1]}\")"
   ]
  },
  {
   "cell_type": "code",
   "execution_count": 58,
   "id": "d1185d12",
   "metadata": {},
   "outputs": [],
   "source": [
    "def predict(w , b , x):\n",
    "    g = sigmoid(np.dot(w,x) + b)\n",
    "    if g * 100 >= 0.5:\n",
    "        print(\"THE CUSTOMER WILL LIKELY CHURN\")\n",
    "    else:\n",
    "        print(\"THE CUSTOMER WILL LIKELY STAY\")"
   ]
  },
  {
   "cell_type": "code",
   "execution_count": 59,
   "id": "da28f65d",
   "metadata": {},
   "outputs": [
    {
     "name": "stdout",
     "output_type": "stream",
     "text": [
      "CUSTOMER CHURN PREDICTOR:\n",
      "PRESS 1 TO START\n",
      "PRESS 0 TO EXIT\n",
      ": 1\n",
      "Enter the Gender\n",
      "MALE: 1  FEMALE: 0:\n",
      " 1\n",
      "Enter the age of the customer: 45\n",
      "Does the user own a credit card?\n",
      "YES: 1   NO: 0\n",
      "1\n",
      "Is the user an active member?\n",
      "YES: 1   NO: 0\n",
      "0\n",
      "Enter the credit score: 654\n",
      "Enter the tenure: 1\n",
      "Enter the balance: 9987680\n",
      "Enter the estimated salary: 125000\n",
      "THE CUSTOMER WILL LIKELY STAY\n",
      "Do you want to continue? (YES: 1 / NO: 0): 0\n"
     ]
    }
   ],
   "source": [
    "ch = int(input(\"CUSTOMER CHURN PREDICTOR:\\nPRESS 1 TO START\\nPRESS 0 TO EXIT\\n: \"))\n",
    "while ch == 1:\n",
    "    x = []\n",
    "    gender = int(input(\"Enter the Gender\\nMALE: 1  FEMALE: 0:\\n \"))\n",
    "    x.append(gender)\n",
    "    age = int(input(\"Enter the age of the customer: \"))\n",
    "    x.append(age)\n",
    "    hscrd = int(input(\"Does the user own a credit card?\\nYES: 1   NO: 0\\n\"))\n",
    "    x.append(hscrd)\n",
    "    actv = int(input(\"Is the user an active member?\\nYES: 1   NO: 0\\n\"))\n",
    "    x.append(actv)\n",
    "    c_score = float(input(\"Enter the credit score: \"))\n",
    "    c_score = c_score / 100\n",
    "    x.append(c_score)\n",
    "    tenure = int(input(\"Enter the tenure: \"))\n",
    "    x.append(tenure)\n",
    "    balance = float(input(\"Enter the balance: \"))\n",
    "    balance = balance / 10000\n",
    "    x.append(balance)\n",
    "    est_sal = float(input(\"Enter the estimated salary: \"))\n",
    "    est_sal = est_sal / 100\n",
    "    x.append(est_sal)\n",
    "    predict(final_weights , final_bias , x)\n",
    "    ch = int(input(\"Do you want to continue? (YES: 1 / NO: 0): \"))"
   ]
  },
  {
   "cell_type": "code",
   "execution_count": null,
   "id": "e6f97a7a",
   "metadata": {},
   "outputs": [],
   "source": []
  }
 ],
 "metadata": {
  "kernelspec": {
   "display_name": "Python 3 (ipykernel)",
   "language": "python",
   "name": "python3"
  },
  "language_info": {
   "codemirror_mode": {
    "name": "ipython",
    "version": 3
   },
   "file_extension": ".py",
   "mimetype": "text/x-python",
   "name": "python",
   "nbconvert_exporter": "python",
   "pygments_lexer": "ipython3",
   "version": "3.9.12"
  }
 },
 "nbformat": 4,
 "nbformat_minor": 5
}
